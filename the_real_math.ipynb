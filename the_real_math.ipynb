{
 "cells": [
  {
   "cell_type": "markdown",
   "metadata": {},
   "source": [
    "# Solving the program without $K_{d+1}$\n",
    "\n",
    "\n",
    "Primal program:\n",
    "- variable $x$ where $x_L$ represents the probability of getting local view $L$ and $x_L\\ge 0$ for all $L$\n",
    "- objective is $\\min \\sum_L x_L\\alpha_L$ where $\\alpha_L$ is the probability $u$ gets $+$ in local view $L$\n",
    "- let $\\gamma^{u}(j)_L = \\Pr(|\\{ v\\in N(u) : \\sigma_v=+\\}| = j \\mid L)$\n",
    "- let $\\gamma^{N(u)}(j)_L = \\frac{1}{d}\\sum_{v\\in N(u)}\\Pr(|\\{ w\\in N(v) : \\sigma_w=+\\}| = j \\mid L)$\n",
    "- probability constraint: $\\sum_L x_L \\ge 1$ (equality holds but we seem to get by with inequality)\n",
    "- gamma constraints: for $0\\le j \\le d-2$ we have $\\sum_L\\left(\\gamma^u(j)_L-\\gamma^{N(u)}(j)_L\\right)x_L \\ge 0$ (the $j=d$ case follows from the others and $j=d-1$ appears to be redundant, also equality holds but inequality seems sufficient)\n",
    "\n",
    "Dual program:\n",
    "- variables are $y_p$ for the probability constraint, $y_0,\\dotsc, y_{d-2}$ for the $\\gamma(j)$ constraints (all are nonnegative, perhaps?)\n",
    "- dual objective is $\\max y_p$\n",
    "- dual constraint for each $L$: $y_p + \\sum_{j=0}^{d-2}\\left(\\gamma^u(j)_L-\\gamma^{N(u)}(j)_L\\right)y_j\\le \\alpha_L$\n",
    "- solve for the $d$ dual variables in the tight constraints we find empirically:\n",
    "    - $d=3$: [15, 20, 21]\n",
    "    - $d=4$: [198, 206, 216, 228]\n",
    "- now we have values for $y_p, y_0, \\dotsc, y_{d-2}$ we have to prove that they are feasible:\n",
    "    - each variable is nonnegative\n",
    "    - for all $L$, dual constraint holds\n",
    "\n",
    "Each of these two final tasks is equivalent to showing that some giant polynomial involving $B$ and $\\lambda$ is nonnegative, and that is difficult in general. Given suitable bounds on the parameters, e.g. that $0\\le B\\le 0.9*(d-2)/d$ and $0\\le \\lambda \\le B^2$, what we can do is try to make variable substitutions so that the resulting polynomials are of nonnegative variables with nonnegative coefficients.\n",
    "\n",
    "For examples on how this can work, see e.g.\n",
    "- https://arxiv.org/pdf/1610.08496\n",
    "- https://arxiv.org/pdf/1611.01474\n",
    "- https://arxiv.org/pdf/1801.07547\n",
    "\n",
    "Usually, the first task is to figure out the denominators in the relevant inequalities and multiply by them to clear denominators."
   ]
  },
  {
   "cell_type": "code",
   "execution_count": 2,
   "metadata": {
    "vscode": {
     "languageId": "plaintext"
    }
   },
   "outputs": [],
   "source": [
    "import os.path\n",
    "\n",
    "from collections import namedtuple\n",
    "from itertools import product\n",
    "\n",
    "from sage.all import diff, graphs, ln, load, Rational, save, srange, sqrt, var\n",
    "from sage.numerical.mip import MixedIntegerLinearProgram\n",
    "\n",
    "from tqdm.autonotebook import tqdm\n",
    "\n",
    "LData = namedtuple(\"LData\", [\"Ls\", \"version\"])\n",
    "DATA_VERSION = 0\n",
    "def default_filename(d):\n",
    "    return f\"data/ising_d{d}.sobj\"\n",
    "\n",
    "def load_data(d, filename=None):\n",
    "    if filename is None:\n",
    "        filename = default_filename(d)\n",
    "\n",
    "    data = load(filename)\n",
    "    return data\n",
    "\n",
    "def lc(d, B):\n",
    "    r = var(\"r\")\n",
    "    s = var(\"s\")\n",
    "    bc = var(\"bc\", latex_name=\"B_c\")\n",
    "\n",
    "    ret = (\n",
    "        (1 - sqrt(r / s))\n",
    "        * ((1 + sqrt(r * s)) / (1 - sqrt(r * s))) ** ((1 + bc) / (-1 + bc))\n",
    "    ) / (1 + sqrt(r / s))\n",
    "\n",
    "    return ret.subs(r=(bc - B) / (bc + B), s=(1 - B) / (1 + B)).subs(bc=(d - 2) / d)\n"
   ]
  },
  {
   "cell_type": "code",
   "execution_count": 5,
   "metadata": {
    "vscode": {
     "languageId": "plaintext"
    }
   },
   "outputs": [
    {
     "name": "stdout",
     "output_type": "stream",
     "text": [
      "1/4 75/9224\n"
     ]
    },
    {
     "data": {
      "application/vnd.jupyter.widget-view+json": {
       "model_id": "0ec102dcc0284a41b1aba521c114b37a",
       "version_major": 2,
       "version_minor": 0
      },
      "text/plain": [
       "  0%|          | 0/229 [00:00<?, ?it/s]"
      ]
     },
     "metadata": {},
     "output_type": "display_data"
    }
   ],
   "source": [
    "d = 4\n",
    "Ls = load_data(d).Ls[:-1] # no K_{d+1} please\n",
    "if d == 3:\n",
    "    tight = [15, 20, 21]\n",
    "elif d == 4:\n",
    "    tight = [198, 206, 216, 228]\n",
    "else:\n",
    "    raise ValueError(f\"no plan for d={d}\")\n",
    "\n",
    "Atranspose = matrix([\n",
    "    [1] + [Ls[t][\"gu\"][j] - Ls[t][\"gNu\"][j] for j in range(d-1)] for t in tight\n",
    "])\n",
    "c = vector(Ls[t][\"pu\"] for t in tight)\n",
    "ys = Atranspose.solve_right(c)\n",
    "\n",
    "Bsub = 25/100\n",
    "lsub = Rational(lc(d, Bsub).n(digits=4))\n",
    "\n",
    "print(Bsub, lsub)\n",
    "# TODO: prove for all Ls, ys[0] + sum(ys[j] * (L[\"gu\"][j] - L[\"gNu\"][j]) for j in range(d-1)) <= L[\"pu\"]\n",
    "for i, L in enumerate(tqdm(Ls)):\n",
    "    ineq = (ys[0] + sum(ys[j+1] * (L[\"gu\"][j] - L[\"gNu\"][j]) for j in range(d-1)) <= L[\"pu\"])\n",
    "    # print(ineq)\n",
    "    if not((ys[0] + sum(ys[j+1] * (L[\"gu\"][j] - L[\"gNu\"][j]) for j in range(d-1)) <= L[\"pu\"]).subs(B=Bsub,l=lsub)):\n",
    "        print(f\"counterexample found at index {i}\")"
   ]
  }
 ],
 "metadata": {
  "kernelspec": {
   "display_name": "SageMath 10.2",
   "language": "sage",
   "name": "sagemath"
  },
  "language_info": {
   "codemirror_mode": {
    "name": "ipython",
    "version": 3
   },
   "file_extension": ".py",
   "mimetype": "text/x-python",
   "name": "sage",
   "nbconvert_exporter": "python",
   "pygments_lexer": "ipython3",
   "version": "3.11.1"
  }
 },
 "nbformat": 4,
 "nbformat_minor": 2
}
